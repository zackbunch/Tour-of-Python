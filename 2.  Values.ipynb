{
 "cells": [
  {
   "cell_type": "markdown",
   "metadata": {},
   "source": [
    "*********************************************************************************************************\n",
    "# A Tour of Python 3\n",
    "version 0.9 (alpha)\n",
    "\n",
    "Authors: Phil Pfeiffer, Zack Bunch, and Feyi Oyeniyi<br>\n",
    "East Tennessee State University<br>\n",
    "Last updated February 2020\n",
    "*********************************************************************************************************\n"
   ]
  },
  {
   "cell_type": "markdown",
   "metadata": {},
   "source": [
    "# Contents <a name='Contents'></a><br>\n",
    "2. [Values](#Values) <br>\n",
    " &ensp; 2.1 [Arithmetic](#Arithmetic)<br>\n",
    " &ensp;&ensp; 2.1.1 [Integer and Floating Point Arithmetic](#Integer-And-Floating-Point-Arithmetic)<br>\n",
    " &ensp;&ensp; 2.1.2 [Complex Arithmetic](#Complex-Arithmetic)<br>\n",
    " &ensp;&ensp; 2.1.3 [Bignum Arithmetic](#Bignum-Arithmetic)<br>\n",
    " &ensp;&ensp; 2.1.4 [Managing Floating Point Imprecision](#Floating-Point-Imprecision) <br>\n",
    " &ensp; 2.2 [Bitwise Operators](#Bitwise-Operators)<br>\n",
    " &ensp; 2.3 [ Logical Values And Operators](#Logical-Values-And-Operators) <br>\n",
    " &ensp;&ensp; 2.3.1 [Logical Values](#Logical-Values) <br>\n",
    " &ensp;&ensp; 2.3.2 [Logical Operators](#Logical-Operators) <br>\n",
    " &ensp; 2.4 [Comparison Operators](#Comparison-Operators) <br>\n",
    " &ensp;&ensp; 2.4.1 [Relational Operators](#Relational-Operators)<br>\n",
    " &ensp;&ensp; 2.4.2 [Identity Testing Operators](#Identity-Testing-Operators)<br>\n",
    " &ensp;&ensp; 2.4.3 [Membership-Testing Operators](#Membership-Testing-Operators)<br>\n",
    " &ensp; 2.5 [None](#Values-None) <br>\n",
    " &ensp; 2.6 [Type Testing](#Values-Type-Testing)"
   ]
  },
  {
   "cell_type": "markdown",
   "metadata": {},
   "source": [
    "# 2.  Values <a name='Values'></a>"
   ]
  },
  {
   "cell_type": "markdown",
   "metadata": {},
   "source": [
    "## 2.1  Arithmetic <a name='Arithmetic'></a>"
   ]
  },
  {
   "cell_type": "markdown",
   "metadata": {},
   "source": [
    "### 2.1.1  Integer and Floating Point Arithmetic <a name='Integer-And-Floating-Point-Arithmetic'></a>\n",
    "Python supports integer and floating point numbers as built-in types.\n",
    "  Numeric operators include addition (+), subtraction (-), multiplication (&ast;), division (/), integer division (//), \n",
    "remainder (%), and exponentiation (&ast;&ast;).\n",
    "\n",
    "Try running the following in their own cells:\n"
   ]
  },
  {
   "cell_type": "code",
   "execution_count": null,
   "metadata": {},
   "outputs": [],
   "source": [
    "# 2.1.1.a Division\n",
    "\n",
    "7/3"
   ]
  },
  {
   "cell_type": "code",
   "execution_count": null,
   "metadata": {},
   "outputs": [],
   "source": [
    "# 2.1.1.b Division\n",
    "\n",
    "12.5/8.0"
   ]
  },
  {
   "cell_type": "code",
   "execution_count": null,
   "metadata": {},
   "outputs": [],
   "source": [
    "# 2.1.1.c Floor Division\n",
    "\n",
    "7//3"
   ]
  },
  {
   "cell_type": "markdown",
   "metadata": {},
   "source": [
    "Python gives this result because it uses \"*floor*\" division. \n",
    "The // operator (two forward slashes) truncates the decimal without rounding, and returns an integer result."
   ]
  },
  {
   "cell_type": "code",
   "execution_count": null,
   "metadata": {},
   "outputs": [],
   "source": [
    "# 2.1.1.d Floor Division\n",
    "\n",
    "12.5//8.0"
   ]
  },
  {
   "cell_type": "code",
   "execution_count": null,
   "metadata": {},
   "outputs": [],
   "source": [
    "# 2.1.1.e Modulo\n",
    "\n",
    "7%3"
   ]
  },
  {
   "cell_type": "code",
   "execution_count": null,
   "metadata": {},
   "outputs": [],
   "source": [
    "# 2.1.1.f Modulo\n",
    "\n",
    "12.5%8.0"
   ]
  },
  {
   "cell_type": "code",
   "execution_count": null,
   "metadata": {},
   "outputs": [],
   "source": [
    "# 2.1.1.g Multiplication\n",
    "\n",
    "7*3"
   ]
  },
  {
   "cell_type": "code",
   "execution_count": null,
   "metadata": {},
   "outputs": [],
   "source": [
    "# 2.1.1.h Multiplication\n",
    "\n",
    "12.5*8.0"
   ]
  },
  {
   "cell_type": "code",
   "execution_count": null,
   "metadata": {},
   "outputs": [],
   "source": [
    "# 2.1.1.i Exponentiation\n",
    "\n",
    "7**3"
   ]
  },
  {
   "cell_type": "code",
   "execution_count": null,
   "metadata": {},
   "outputs": [],
   "source": [
    "# 2.1.1.j Exponentiation\n",
    "\n",
    "12.5**8.0"
   ]
  },
  {
   "cell_type": "code",
   "execution_count": null,
   "metadata": {},
   "outputs": [],
   "source": [
    "# 2.1.1.k Using exponentiation to compute roots\n",
    "\n",
    "4**0.5"
   ]
  },
  {
   "cell_type": "code",
   "execution_count": null,
   "metadata": {},
   "outputs": [],
   "source": [
    "# 2.1.1.l Using exponentiation to compute roots\n",
    "\n",
    "36**0.5"
   ]
  },
  {
   "cell_type": "code",
   "execution_count": null,
   "metadata": {},
   "outputs": [],
   "source": [
    "# 2.1.1.m Default order of operations: * and \\ supersede + and - \n",
    "\n",
    "2 + 10 * 10 - 6/2"
   ]
  },
  {
   "cell_type": "code",
   "execution_count": null,
   "metadata": {},
   "outputs": [],
   "source": [
    "# 2.1.1.n Default order of operations: * and \\ supersede + and - \n",
    "\n",
    "4 + 9 * 9 - 20/4"
   ]
  },
  {
   "cell_type": "code",
   "execution_count": null,
   "metadata": {},
   "outputs": [],
   "source": [
    "# 2.1.1.o Using parentheses to specify order of operations\n",
    "\n",
    "(2 + 10) * (10 - 6/2)"
   ]
  },
  {
   "cell_type": "code",
   "execution_count": null,
   "metadata": {},
   "outputs": [],
   "source": [
    "# 2.1.1.p Using parentheses to specify order of operations\n",
    "\n",
    "(4 + 9) * (9 - 20/4)"
   ]
  },
  {
   "cell_type": "markdown",
   "metadata": {},
   "source": [
    "### 2.1.2  Complex Arithmetic <a name='Complex-Arithmetic'></a>\n",
    "Python supports complex numbers as built-in types.  \n",
    "Per engineering practice, imaginary components of complex numbers are specified using a trailing `j`, as in 3+4j. \n",
    "Complex operators include addition (+), subtraction (-), multiplication (&ast;), division (/), integer division (//), and exponentiation (&ast;&ast;)."
   ]
  },
  {
   "cell_type": "code",
   "execution_count": null,
   "metadata": {},
   "outputs": [],
   "source": [
    "# 2.1.2.a Complex addition\n",
    "\n",
    "(4+7j) +  (3-2j)"
   ]
  },
  {
   "cell_type": "code",
   "execution_count": null,
   "metadata": {},
   "outputs": [],
   "source": [
    "# 2.1.2.b Complex addition\n",
    "\n",
    "(8+7j) + (4-1j)"
   ]
  },
  {
   "cell_type": "code",
   "execution_count": null,
   "metadata": {},
   "outputs": [],
   "source": [
    "# 2.1.2.c Complex subtraction\n",
    "\n",
    "(4+7j) - (3-1j)"
   ]
  },
  {
   "cell_type": "code",
   "execution_count": null,
   "metadata": {},
   "outputs": [],
   "source": [
    "# 2.1.2.d Complex subtraction\n",
    "\n",
    "(8+7j) - (4-1j)"
   ]
  },
  {
   "cell_type": "code",
   "execution_count": null,
   "metadata": {},
   "outputs": [],
   "source": [
    "# 2.1.2.e Complex multiplication\n",
    "\n",
    "(4+7j) * (3-2j)"
   ]
  },
  {
   "cell_type": "code",
   "execution_count": null,
   "metadata": {},
   "outputs": [],
   "source": [
    "# 2.1.2.f Complex multiplication\n",
    "\n",
    "(8+7j) * (4-1j)"
   ]
  },
  {
   "cell_type": "code",
   "execution_count": null,
   "metadata": {},
   "outputs": [],
   "source": [
    "# 2.1.2.g Complex division\n",
    "\n",
    "(4+7j) / (3-2j)"
   ]
  },
  {
   "cell_type": "code",
   "execution_count": null,
   "metadata": {},
   "outputs": [],
   "source": [
    "# 2.1.2.h Complex division\n",
    "\n",
    "(8+7j) / (4-1j)"
   ]
  },
  {
   "cell_type": "code",
   "execution_count": null,
   "metadata": {},
   "outputs": [],
   "source": [
    "# 2.1.2.i Complex modulus\n",
    "\n",
    "(4+7j) % (3-2j)"
   ]
  },
  {
   "cell_type": "code",
   "execution_count": null,
   "metadata": {},
   "outputs": [],
   "source": [
    "# 2.1.2.j Complex exponentiation\n",
    "\n",
    "(4+7j) ** (3-2j)"
   ]
  },
  {
   "cell_type": "code",
   "execution_count": null,
   "metadata": {},
   "outputs": [],
   "source": [
    "# 2.1.2.k Complex exponentiation\n",
    "\n",
    "(8+7j) ** (4-1j)"
   ]
  },
  {
   "cell_type": "markdown",
   "metadata": {},
   "source": [
    "**Exercise:**\n",
    "- Explain why Complex Modulus fails\n"
   ]
  },
  {
   "cell_type": "markdown",
   "metadata": {},
   "source": [
    "### 2.1.3  Bignum Arithmetic <a name='Bignum-Arithmetic'></a>\n",
    "The following example computes and displays exact powers of 2 up to 2&ast;&ast;9900 - well beyond numbers that C# or Java can handle.\n",
    "  Python's interpreter automatically uses string representations to compute with large integers (\"bignums\").\n",
    "  While string-based arithmetic can be quite slow ( O(n&ast;&ast;2) ) for bignums, Python's pretty fast with numbers that are even this large.\n",
    "\n",
    "The following example uses the following additional Python constructs:\n",
    "\n",
    "- `import`.  `import` statements reference Python modules and their contents - here, two functions in Python's `math` library:\n",
    "  - `log10`, which returns the base 10 logarithm of its argument\n",
    "  - `floor`, which returns the largest integer that's less than or equal to its argument\n",
    "- `for`.  `for` statements pass each value in the list generated by its *in* expression to the print statement.\n",
    "  - *Lists* are denoted by square brackets ([...]).\n",
    "  - The list shown here is created by a *list comprehension*.\n",
    "    - This comprehension uses Python's *range iterator* to generate the sequence 0, 100, 200, ... 9900.\n",
    "    - It uses a `for` expression to retrieve each number from the sequence, appending each in turn to the comprehension-generated list.\n",
    "- `print`.  Print statements accept a combination of positional and labeled arguments:\n",
    "  - All labeled arguments must follow all positional arguments\n",
    "  - The `end` labeled argument specifies a final string to output after all other arguments (default: newline)\n",
    "- `range`.  `range` expressions, when invoked repeatedly, return the next value in the sequence of values determined by its arguments,\n",
    "   until exhausting the sequence.  They take one of three forms:\n",
    "   -  `range(n)` - generate an ascending sequence of values from 0 to n-1 inclusive\n",
    "   -  `range(m,n)` - generate an ascending sequence of values from m to n-1 inclusive\n",
    "   -  `range(m,n,step)`\n",
    "      -  if *step* is positive, generate an ascending sequence of values from *m* to *k* &ast; *step* inclusive, \n",
    "         where *k* &ast; *step* <= n-1 < *k+1* &ast; *step*\n",
    "      -  if *step* is negative, generate a descending sequence of values from *m* to *k* &ast; *step* inclusive, \n",
    "         where *k-1* &ast; *step* < *n*-1 <= *k* &ast; *step*"
   ]
  },
  {
   "cell_type": "markdown",
   "metadata": {},
   "source": [
    "**About compound statements**:\n",
    "In place of paired delimiters like `{...}` or `begin...end` to structure code, Python uses indentation to delimit a compound statement's body.\n",
    " Here, the `for` loop's body is indented from the loop head by a consistent number of blanks.\n",
    "\n",
    "Indentation throughout a compound statement's inner block must be consistent.\n",
    "- Python's parser will treat irregular indentation in what's supposed to be a single block as a syntax error.\n",
    "- When determining block structure, Python treats tabs and spaces as distinct characters:  i.e.,\n",
    "  -  Indenting one line with four spaces and the following with a tab will be treated as erroneous,\n",
    "     even if coding in an editor that treats tabs as four-character indentations.\n",
    "  -  For simplicity, when editing Python code, consider using the editor to auto-convert tabs to spaces -\n",
    "     a feature supported by contemporary text editors like Notepad++.\n",
    "\n",
    "As a shorthand, if a compound statement's body contains one statement, that statement can be written to the right of a statement guard's colon.\n",
    "\n",
    "These notebooks follow Ruby's convention for nesting blocks, indenting each inner block by two spaces from its outer block."
   ]
  },
  {
   "cell_type": "code",
   "execution_count": null,
   "metadata": {},
   "outputs": [],
   "source": [
    "# 2.1.3.a Illustrating bignum arithmetic (version 1)\n",
    "# math - a library module that defines math routines\n",
    "#   math.floor - return the smallest integer equal to or greater than its argument\n",
    "#   math.log10 - return the logarithm base 10 of its argument\n",
    "\n",
    "from math import log10, floor\n",
    "\n",
    "for value in [item for item in range(0, 10000, 100)]:\n",
    "  print(value, floor(log10(2**value))+1, 2**value)\n",
    "  print('---')"
   ]
  },
  {
   "cell_type": "markdown",
   "metadata": {},
   "source": [
    "**Exercise:**\n",
    "-  Explain the significance of `floor(log10(2**value))+1` in terms that a first grader can understand.\n",
    "   -  Hint: if the expression's significance isn't apparent, try replacing `range(0, 10000, 100)` with `range(0,31)`."
   ]
  },
  {
   "cell_type": "markdown",
   "metadata": {},
   "source": [
    "This next, equivalent example uses a list comprehension that returns a *tuple* of values.\n",
    "-  Tuples, like lists, order a collection of values in a sequence.\n",
    "-  Tuples, like lists, are indexed using numbers in square brackets.\n",
    "-  Tuples, like lists, are *0-indexed* sequences: their elements are numbered 0, 1, 2, and so forth\n",
    "-  Unlike lists, which are constructed using square brackets ([...]), tuples are constructed using parentheses ( (...) ).\n",
    "-  Unlike lists, which can be updated, tuples are *immutable*: once defined, they can't be changed.\n",
    "\n",
    "Immutability makes tuples a better candidate than lists for implementing collections with lookup operations.\n",
    " This point is covered in detail below, in the discussion of Python data structures."
   ]
  },
  {
   "cell_type": "code",
   "execution_count": null,
   "metadata": {},
   "outputs": [],
   "source": [
    "# 2.1.3.b Illustrating bignum arithmetic (version 2)\n",
    "# math - a library module that defines math routines\n",
    "#   math.floor - return the smallest integer equal to or greater than its argument\n",
    "#   math.log10 - return the logarithm base 10 of its argument\n",
    "\n",
    "from math import log10, floor\n",
    "\n",
    "for result in [(value, floor(log10(2**value))+1, 2**value) for value in range(0, 10000, 100)]:\n",
    "  print(result[0], result[1], result[2])\n",
    "  print('---')"
   ]
  },
  {
   "cell_type": "markdown",
   "metadata": {},
   "source": [
    "**Exercise:**\n",
    "-  Modify the two bignum exercises above, collapsing the two print statements into a single print statement,\n",
    " using *print*'s *end* named parameter.\n",
    "\n",
    "Hints:\n",
    "-  Python functions can be designed to accept a combination of positional and named parameters.\n",
    "   -  The syntax for a named parameter like `end` is `end='...some string...'`.\n",
    "   -  All of a function call's named parameters, when specified, must follow all of that function's positional parameters.\n",
    "-  `print`'s `end` parameter changes the default end-of-output character, \\n.\n"
   ]
  },
  {
   "cell_type": "markdown",
   "metadata": {},
   "source": [
    "### 2.1.4 Managing Floating Point Imprecision <a name='Floating-Point-Imprecision'></a>\n",
    "Python's floating point math operations are subject to round-off error. The following code,\n",
    " which uses integer and floating point arithmetic to generate two supposedly equivalent series of values,\n",
    " illustrates how quickly floating point accuracy can deteriorate,\n",
    " along with one erroneous and one effective strategy for doing comparisons with floating point values.\n",
    "\n",
    "Additional Python constructs used in these examples:\n",
    "- Two of Python's assignment operators\n",
    "  - `=` - simple assignment\n",
    "  - `+=` - incremental summing update; i.e., `a += b` is equivalent to `a = a+b` \n",
    "- Python's C-language-like binary string formatting operator, `%`.\n",
    "  - `sa % sb` denotes the string obtained by updating percent-sign-prefixed items in string `sa` with values from sequence `sb`,\n",
    "    according to a fairly elaborate set of formatting conventions\n",
    "    [described in a later unit](./5.%20%20Builtin%20data%20structures.ipynb#Printf-Style-String-Formatting).\n",
    "  - This feature allows users to specify the size of a field that a value should occupy, \n",
    "    how that value should be justified within that field, and, for numbers, how exactly those numbers should be represented.\n",
    "- Python's string formatting mechanism, `f-strings`.\n",
    "  - The expression `f\"fs\"` denotes the string obtained by updating each `{bracketed_expression}` in string `fs` by\n",
    "    the value obtained by evaluating `bracketed_expression`, according to conventions\n",
    "    [described in a later unit](./5.%20%20Builtin%20data%20structures.ipynb#F-String-Style-String-Formatting).\n",
    "  - This feature provides a simple means of building strings for which precise formatting is not a concern.\n",
    "- Python's built-in string constructor, `str`, is used below to convert an integer to a string representation.\n",
    "- Two Python built-in library functions:\n",
    "  - `abs` - return a value's absolute value\n",
    "  - `min` - return the minimum value in a collection of values\n",
    "- A variant of Python's import statement, *from module import entity1, entity2, ...*, which allows access to module objects by name.\n",
    "\n",
    "The example's primary takeaway: **compare floating point values for closeness, rather than equality**."
   ]
  },
  {
   "cell_type": "code",
   "execution_count": null,
   "metadata": {},
   "outputs": [],
   "source": [
    "# 2.1.4  illustrating floating point imprecision and how to manage it\n",
    "# sys - is a library module that defines system-specific parameters\n",
    "#   sys.float_info.epsilon - smallest distinguishable increment between floating-point values\n",
    "#   sys.float_info.mant_dig - number of digits in a floating point value's mantissa\n",
    "# math - a library module that defines math routines\n",
    "#   math.log10 - return the logarithm base 10 of its argument\n",
    "#   math.floor - return the largest integer equal to or smaller than its argument\n",
    "\n",
    "import sys\n",
    "from sys import float_info\n",
    "import math\n",
    "from math import log10, floor\n",
    "\n",
    "# Specify the range of values over which to do computations\n",
    "\n",
    "first_int = 100\n",
    "last_int = first_int + 6\n",
    "\n",
    "# Set up the floating point machinery for tracking the integer value\n",
    "\n",
    "# fp_induction_variable - the floating point value that will track integer_value\n",
    "# delta - how much fp_induction_variable will change on each iteration\n",
    "\n",
    "# the code uses division and multiplication to force the use of IEEE 754 math\n",
    "# to manipulate fp_induction_variable\n",
    "delta = 0.1\n",
    "fp_induction_variable = delta * first_int\n",
    "\n",
    "for this_int in range(first_int, last_int+1):\n",
    "  # use fp_induction_variable to compute  a floating point equivalent for this_int\n",
    "  #\n",
    "  fp_equivalent_for_this_int = fp_induction_variable / delta\n",
    "\n",
    "  # show the two values to clarify the ensuing comparison\n",
    "  # -. first, compute the number of fractional digits to show in fp_equivalent_for_this_int\n",
    "  #\n",
    "  this_int_magnitude = min(abs(this_int), abs(fp_equivalent_for_this_int))\n",
    "  if this_int_magnitude == 0:\n",
    "    this_int_digit_count = 1  # can't take log10 of 0\n",
    "  else:\n",
    "     this_int_digit_count = floor(log10(this_int_magnitude)) + 1\n",
    "  comparison_tolerance = float_info.epsilon * ( 10 ** this_int_digit_count )\n",
    "  fractional_digits_in_tolerance = abs(min(0, floor(log10(comparison_tolerance))))\n",
    "  #\n",
    "  fractional_digits_to_show = abs(min(0, ( fractional_digits_in_tolerance - float_info.mant_dig )))\n",
    "\n",
    "  # -. then, show the two values\n",
    "  #    need to first generate the format string for fp_equivalent_for_this_int \n",
    "  #    %.<n>lf shows fp_equivalent_for_this_int's value to <n> places\n",
    "  #\n",
    "  fp_format_string =  '%slf' % ( '%.' + str(fractional_digits_to_show) )\n",
    "  print( ( 'int and float values are %s and ' + fp_format_string ) % ( this_int, fp_equivalent_for_this_int ) )\n",
    "\n",
    "  # do an exact comparison between the \"appropriately\" scaled float and the int that it tracks\n",
    "  #\n",
    "  if this_int == fp_equivalent_for_this_int:\n",
    "    result = 'equal'\n",
    "  else:\n",
    "    result = 'not equal'\n",
    "  print( f'exact comparison says values are {result}' )\n",
    "\n",
    "  # now, check for approximate equality, within the tolerances provided by IEEE 754 math\n",
    "  #\n",
    "  if abs(this_int - fp_equivalent_for_this_int) <= comparison_tolerance:\n",
    "    result = 'equal'\n",
    "  else:\n",
    "    result = 'not equal'\n",
    "  print( f'approximate comparison (tolerance: {comparison_tolerance}) says values are {result}' )\n",
    "  print( '----' )  #\n",
    "  # finally, update fp_induction_variable for the next iteration\n",
    "  #\n",
    "  fp_induction_variable += delta"
   ]
  },
  {
   "cell_type": "markdown",
   "metadata": {},
   "source": [
    "**Exercises:**\n",
    "- Use `print`'s `end` keyword to collapse the two `print` statements in the above example to a single, equivalent `print` statement.\n",
    "- [Python's math library](https://docs.python.org/3/library/math.html) has a function that does a \n",
    "  comparison_tolerance check like the one at the end of this example.\n",
    "  Identify that function, then revise the example to use it."
   ]
  },
  {
   "cell_type": "markdown",
   "metadata": {},
   "source": [
    "## 2.2 Bitwise Operators <a name='Bitwise-Operators'></a>\n",
    "Python supports bitwise operations on numeric values.  Bitwise operations include negation (~), and (&),\n",
    " or (|), exclusive or (^), shift left (<<), and shift right (>>).\n",
    "\n",
    "Additional Python constructs used in these examples:\n",
    "- Python's built-in\n",
    " [*format* function](./5.%20%20Builtin%20data%20structures.ipynb#Format-Style-String-Formatting)\n",
    " is used to output decimal values as 5-digit binary values, for clarity.\n",
    "  - In the examples' '>05b', format specifier,\n",
    "    - '>' specifies right justification\n",
    "    - '0' specifies 0 padding\n",
    "    - 'b' specifies binary output\n",
    "- `print`'s `sep` parameter specifies an inter-argument separator (default: ' ').\n",
    "  - Python functions can be designed to accept a combination of positional and named parameters\n",
    "  - All named parameters must follow all positional parameters\n"
   ]
  },
  {
   "cell_type": "code",
   "execution_count": null,
   "metadata": {},
   "outputs": [],
   "source": [
    "# 2.2.a1 bitwise negation - decimal representation\n",
    "\n",
    "~21"
   ]
  },
  {
   "cell_type": "code",
   "execution_count": null,
   "metadata": {},
   "outputs": [],
   "source": [
    "# 2.2.a2 bitwise negation - equivalent binary representation\n",
    "\n",
    "print( format(21, '>05b'), '\\n', format(~21, '>05b'), sep='')"
   ]
  },
  {
   "cell_type": "code",
   "execution_count": null,
   "metadata": {},
   "outputs": [],
   "source": [
    "# 2.2.b1 bitwise and (example 1) - decimal representation\n",
    "\n",
    "21&10"
   ]
  },
  {
   "cell_type": "code",
   "execution_count": null,
   "metadata": {},
   "outputs": [],
   "source": [
    "# 2.2.b2 bitwise and (example 1) - equivalent binary representation\n",
    "\n",
    "print( format(21, '>05b'), '\\n', format(10, '>05b'), '\\n', format(21&10, '>05b'), sep='')"
   ]
  },
  {
   "cell_type": "code",
   "execution_count": null,
   "metadata": {},
   "outputs": [],
   "source": [
    "# 2.2.c1 bitwise and (example 2) - decimal representation\n",
    "\n",
    "21&21"
   ]
  },
  {
   "cell_type": "code",
   "execution_count": null,
   "metadata": {},
   "outputs": [],
   "source": [
    "# 2.2.c2 bitwise and (example 2) - equivalent binary representation\n",
    "\n",
    "print( format(21, '>05b'), '\\n', format(21, '>05b'), '\\n', format(21&21, '>05b'), sep='')"
   ]
  },
  {
   "cell_type": "code",
   "execution_count": null,
   "metadata": {},
   "outputs": [],
   "source": [
    "# 2.2.d1 bitwise or (example 1) - decimal representation\n",
    "\n",
    "21|10"
   ]
  },
  {
   "cell_type": "code",
   "execution_count": null,
   "metadata": {},
   "outputs": [],
   "source": [
    "# 2.2.d2 bitwise or (example 1) - equivalent binary representation\n",
    "\n",
    "print( format(21, '>05b'), '\\n', format(10, '>05b'), '\\n', format(21|10, '>05b'), sep='')"
   ]
  },
  {
   "cell_type": "code",
   "execution_count": null,
   "metadata": {},
   "outputs": [],
   "source": [
    "# 2.2.e1 bitwise or (example 2) - decimal representation\n",
    "\n",
    "21|21"
   ]
  },
  {
   "cell_type": "code",
   "execution_count": null,
   "metadata": {},
   "outputs": [],
   "source": [
    "# 2.2.e2 bitwise or (example 2) - equivalent binary representation\n",
    "\n",
    "print( format(21, '>05b'), '\\n', format(21, '>05b'), '\\n', format(21|21, '>05b'), sep='')"
   ]
  },
  {
   "cell_type": "code",
   "execution_count": null,
   "metadata": {},
   "outputs": [],
   "source": [
    "# 2.2.f1 bitwise exclusive or (example 1) - decimal representation\n",
    "\n",
    "21^14"
   ]
  },
  {
   "cell_type": "code",
   "execution_count": null,
   "metadata": {},
   "outputs": [],
   "source": [
    "# 2.2.f2 bitwise exclusive or (example 1) - equivalent binary representation\n",
    "\n",
    "print( format(21, '>05b'), '\\n', format(14, '>05b'), '\\n', format(21^14, '>05b'), sep='')"
   ]
  },
  {
   "cell_type": "code",
   "execution_count": null,
   "metadata": {},
   "outputs": [],
   "source": [
    "# 2.2.g1 bitwise exclusive or (example 2) - decimal representation\n",
    "\n",
    "21^31"
   ]
  },
  {
   "cell_type": "code",
   "execution_count": null,
   "metadata": {},
   "outputs": [],
   "source": [
    "# 2.2.g2 bitwise exclusive or (example 2) - equivalent binary representation\n",
    "\n",
    "print( format(21, '>05b'), '\\n', format(31, '>05b'), '\\n', format(21^31, '>05b'), sep='')"
   ]
  },
  {
   "cell_type": "code",
   "execution_count": null,
   "metadata": {},
   "outputs": [],
   "source": [
    "# 2.2.h1 bit shift right - decimal representation\n",
    "\n",
    "21>>1"
   ]
  },
  {
   "cell_type": "code",
   "execution_count": null,
   "metadata": {},
   "outputs": [],
   "source": [
    "# 2.2.h2 bit shift right - equivalent binary representation\n",
    "\n",
    "print( format(21, '>05b'), '\\n', format(21>>1, '>05b'), sep='')"
   ]
  },
  {
   "cell_type": "code",
   "execution_count": null,
   "metadata": {},
   "outputs": [],
   "source": [
    "# 2.2.i1 bit shift left - decimal representation\n",
    "\n",
    "21<<1"
   ]
  },
  {
   "cell_type": "code",
   "execution_count": null,
   "metadata": {},
   "outputs": [],
   "source": [
    "# 2.2.i2 bit shift left - equivalent binary representation\n",
    "\n",
    "print( format(21, '>06b'), '\\n', format(21<<1, '>06b'), sep='')"
   ]
  },
  {
   "cell_type": "markdown",
   "metadata": {},
   "source": [
    "## 2.3 Logical Values And Operators  <a name='Logical-Values-And-Operators'></a>"
   ]
  },
  {
   "cell_type": "markdown",
   "metadata": {},
   "source": [
    "### 2.3.1 Logical Values <a name='Logical-Values'></a>\n",
    "Python supports two logical values: `True` and `False`.  Python also supports the two sets of *coercions*--\n",
    " implicit type changes-- from other values to `True` and `False`:\n",
    "-  Like C, Python treats 0 as `False` and other atomic values as `True`.\n",
    "-  Like XSLT, Python treats empty collections as `False` and non-empty collections as `True`.\n",
    "\n",
    "Additional Python constructs used in these examples:\n",
    "-  Python's C-like ternary `if` expression, &ensp;&ensp; *one_result* `if` *something is True*` else` *another_result* \n"
   ]
  },
  {
   "cell_type": "code",
   "execution_count": null,
   "metadata": {},
   "outputs": [],
   "source": [
    "# 2.3.1.a1 - coercing 0 to a logical value\n",
    "\n",
    "'zero is treated as %s' % ('True' if 0 else 'False')"
   ]
  },
  {
   "cell_type": "code",
   "execution_count": null,
   "metadata": {},
   "outputs": [],
   "source": [
    "# 2.3.1.a2 - coercing nonzero numbers to logical values\n",
    "\n",
    "'nonzero numbers like 3.7 are treated as %s' % ('True' if 3.7 else 'False',)"
   ]
  },
  {
   "cell_type": "code",
   "execution_count": null,
   "metadata": {},
   "outputs": [],
   "source": [
    "# 2.3.1.b1 - coercing the empty string to a logical value\n",
    "\n",
    "'the empty string, \"\", is treated as %s' % ('True' if \"\" else 'False')"
   ]
  },
  {
   "cell_type": "code",
   "execution_count": null,
   "metadata": {},
   "outputs": [],
   "source": [
    "# 2.3.1.b2 - coercing nonempty strings to logical values\n",
    "\n",
    "'nonempty strings like \"1\" are treated as %s' % ('True' if \"1\" else 'False')"
   ]
  },
  {
   "cell_type": "code",
   "execution_count": null,
   "metadata": {},
   "outputs": [],
   "source": [
    "# 2.3.1.c1 - coercing an empty collection to a logical value\n",
    "\n",
    "'the empty list, [], is treated as %s' % ('True' if [] else 'False')"
   ]
  },
  {
   "cell_type": "code",
   "execution_count": null,
   "metadata": {},
   "outputs": [],
   "source": [
    "# 2.3.1.c2 - coercing nonempty collections to logical values\n",
    "\n",
    "'nonempty lists like [1] are treated as %s' % ('True' if [1] else 'False')"
   ]
  },
  {
   "cell_type": "markdown",
   "metadata": {},
   "source": [
    "**Exercise:**\n",
    "- Revise the [Floating Point Math](#Floating-Point-Imprecision) example to use ternary \"if\" expressions in place of if-then-else statements.\n"
   ]
  },
  {
   "cell_type": "markdown",
   "metadata": {},
   "source": [
    "### 2.3.2 Logical Operators <a name='Logical-Operators'></a>\n",
    "Python supports three basic logical operators: `and`, `or`, and `not`."
   ]
  },
  {
   "cell_type": "code",
   "execution_count": null,
   "metadata": {},
   "outputs": [],
   "source": [
    "# 2.3.2 - illustrating Python's logical operators\n",
    "\n",
    "not True, not False, True and True, True and False, False or True, False or False"
   ]
  },
  {
   "cell_type": "markdown",
   "metadata": {},
   "source": [
    "## 2.4 Comparison Operators  <a name='Comparison-Operators'></a>\n"
   ]
  },
  {
   "cell_type": "markdown",
   "metadata": {},
   "source": [
    "### 2.4.1 Relational Operators <a name='Relational-Operators'></a>\n",
    "Python supports the six classic relational operators:  < (less than), <= (less than or equal),\n",
    "\n",
    " == (equal), != (not equal), >= (greater than or equal), and > (greater than).  Relational operators may be cascaded, as shown below."
   ]
  },
  {
   "cell_type": "code",
   "execution_count": null,
   "metadata": {},
   "outputs": [],
   "source": [
    "# 2.4.1.a - cascaded relational operators \n",
    "\n",
    "4 < 5 < 6"
   ]
  },
  {
   "cell_type": "code",
   "execution_count": null,
   "metadata": {},
   "outputs": [],
   "source": [
    "# 2.4.1.b - cascaded relational operators \n",
    "\n",
    "4 < 6 < 5"
   ]
  },
  {
   "cell_type": "code",
   "execution_count": null,
   "metadata": {},
   "outputs": [],
   "source": [
    "# 2.4.1.c - cascaded relational operators \n",
    "\n",
    "9 > 8 > 2"
   ]
  },
  {
   "cell_type": "code",
   "execution_count": null,
   "metadata": {},
   "outputs": [],
   "source": [
    "# 2.4.1.d - cascaded relational operators \n",
    "\n",
    "5 > 8 > 6"
   ]
  },
  {
   "cell_type": "code",
   "execution_count": null,
   "metadata": {},
   "outputs": [],
   "source": [
    "# 2.4.1.e - cascaded relational operators \n",
    "\n",
    "4 < 6 < 8 > 7 > 5"
   ]
  },
  {
   "cell_type": "code",
   "execution_count": null,
   "metadata": {},
   "outputs": [],
   "source": [
    "# 2.4.1.f - cascaded relational operators\n",
    "\n",
    "5 < 4 < 12 > 8 > 4"
   ]
  },
  {
   "cell_type": "markdown",
   "metadata": {},
   "source": [
    "### 2.4.2 Identity-Testing Operators <a name='Identity-Testing-Operators'></a>\n",
    "Python supports two identity-testing operators: `is` and `is not`"
   ]
  },
  {
   "cell_type": "code",
   "execution_count": null,
   "metadata": {},
   "outputs": [],
   "source": [
    "# 2.4.2.a - illustrating identity testing in strings \n",
    "\n",
    "x = 'hello'\n",
    "y = x             # string assignment initially creates a shared reference\n",
    "\n",
    "print( 'after assigning', x, 'to x and executing x=y' )\n",
    "print( '\\'x is y\\' is', x is y )\n",
    "print( '\\'x is not y\\' is', x is not y )\n",
    "\n",
    "y = y + ' world'  # for strings, updates end sharing\n",
    "print()\n",
    "print( '\\'x is y\\' is', x is y )\n",
    "print( '\\'x is not y\\' is', x is not y )"
   ]
  },
  {
   "cell_type": "code",
   "execution_count": null,
   "metadata": {},
   "outputs": [],
   "source": [
    "# 2.4.2.b - illustrating identity testing in lists \n",
    "\n",
    "x = [1, 2, 3]\n",
    "y = x   # list assignment creates a shared reference\n",
    "\n",
    "print( 'after assigning', x, 'to x and executing x=y' )\n",
    "print( '\\'x is y\\' is', x is y )\n",
    "print( '\\'x is not y\\' is', x is not y )\n",
    "\n",
    "y.append(4)   # for lists, updates preserve sharing\n",
    "print()\n",
    "print( 'after appending 4 to x' )\n",
    "print( '\\'x is y\\' is', x is y )\n",
    "print( '\\'x is not y\\' is', x is not y )"
   ]
  },
  {
   "cell_type": "markdown",
   "metadata": {},
   "source": [
    "**Exercise:**\n",
    "- Take this last example one step further.  Set y = y+[4], then check if x is y.  Explain your result. \n"
   ]
  },
  {
   "cell_type": "markdown",
   "metadata": {},
   "source": [
    "### 2.4.3 Membership-Testing Operators <a name='Membership-Testing-Operators'></a>\n",
    "Python supports two membership-testing operators: `in` and `not in`"
   ]
  },
  {
   "cell_type": "code",
   "execution_count": null,
   "metadata": {},
   "outputs": [],
   "source": [
    "# 2.4.3.a - illustrating membership testing in lists (example 1)\n",
    "\n",
    "print( '3 in [1, 2, 3] is', 3 in [1, 2, 3] )\n",
    "print( '4 in [1, 2, 3] is', 4 in [1, 2, 3] )\n",
    "print()\n",
    "print( '3 not in [1, 2, 3] is', 3 not in [1, 2, 3] )\n",
    "print( '4 not in [1, 2, 3] is', 4 not in [1, 2, 3] )"
   ]
  },
  {
   "cell_type": "code",
   "execution_count": null,
   "metadata": {},
   "outputs": [],
   "source": [
    "# 2.4.3.b - illustrating membership testing in lists (example 2)\n",
    "\n",
    "print('4 in [2.5, 6, 9, 1, 4] is', 4 in [2.5, 6, 9, 1, 4])\n",
    "print('15 in [2.5, 6, 9, 1, 4] is', 15 in [2.5, 6, 9, 1, 4])\n",
    "print('9 in [2.5, 6, 9, 1, 4] is', 9 in [2.5, 6, 9, 1, 4])\n",
    "print()\n",
    "print('4 not in [2.5, 6, 9, 1, 4] is', 4 not in [2.5, 6, 9, 1, 4])\n",
    "print('15 not in [2.5, 6, 9, 1, 4] is', 15 not in [2.5, 6, 9, 1, 4])\n",
    "print('9 not in [2.5, 6, 9, 1, 4] is', 9 not in[2.5, 6, 9, 1, 4])"
   ]
  },
  {
   "cell_type": "code",
   "execution_count": null,
   "metadata": {},
   "outputs": [],
   "source": [
    "# 2.4.3.b - illustrating membership testing in strings (example 1)\n",
    "\n",
    "print( '\\'\\' in \\'abc\\' is',     '' in 'abc' )\n",
    "print( '\\'a\\' in \\'abc\\' is',   'a' in 'abc' )\n",
    "print( '\\'bc\\' in \\'abc\\' is', 'bc' in 'abc' )\n",
    "print( '\\'ac\\' in \\'abc\\' is', 'ac' in 'abc' )\n",
    "print()\n",
    "print( '\\'\\' not in \\'abc\\' is',     '' not in 'abc' )\n",
    "print( '\\'a\\' not in \\'abc\\' is',   'a' not in 'abc' )\n",
    "print( '\\'bc\\' not in \\'abc\\' is', 'bc' not in 'abc' )\n",
    "print( '\\'ac\\' not in \\'abc\\' is', 'ac' not in 'abc' )"
   ]
  },
  {
   "cell_type": "code",
   "execution_count": null,
   "metadata": {},
   "outputs": [],
   "source": [
    "# 2.4.3.b - illustrating membership testing in strings (example 2)\n",
    "\n",
    "print( '\\'\\' in \\'color\\' is',     '' in 'color' )\n",
    "print( '\\'r\\' in \\'color\\' is',   'r' in 'color' )\n",
    "print( '\\'cl\\' in \\'color\\' is', 'cl' in 'color' )\n",
    "print( '\\'co\\' in \\'color\\' is', 'co' in 'color' )\n",
    "print()\n",
    "print( '\\'\\' not in \\'color\\' is',     '' not in 'color' )\n",
    "print( '\\'r\\' not in \\'color\\' is',   'r' not in 'color' )\n",
    "print( '\\'cl\\' not in \\'color\\' is', 'cl' not in 'color' )\n",
    "print( '\\'co\\' not in \\'color\\' is', 'co' not in 'color' )"
   ]
  },
  {
   "cell_type": "markdown",
   "metadata": {},
   "source": [
    "Membership testing in strings tests for substring membership. Note that the empty string is a member of every string, itself."
   ]
  },
  {
   "cell_type": "markdown",
   "metadata": {},
   "source": [
    "## 2.5 None  <a name='Values-None'></a>\n",
    "Formal languages routinely define a special value, like *nil* or *null*, that denotes the absence of a value. In Python, this value is called `None`."
   ]
  },
  {
   "cell_type": "markdown",
   "metadata": {},
   "source": [
    "## 2.6 Type testing  <a name='Values-Type-Testing'></a>\n",
    "Python equates types with classes.\n",
    "-  To get an object *o*'s type, use *type(o)*.\n",
    "-  To test whether *o* is of a given type *type*, use *isinstance(o, type)*.\n",
    "-  To test whether *o* is of a given set of types (*type_1*, ... *type_n*), use *isinstance(o, (type_1, ... type_n))*."
   ]
  },
  {
   "cell_type": "code",
   "execution_count": null,
   "metadata": {},
   "outputs": [],
   "source": [
    "# 2.6.a - types of various values\n",
    "\n",
    "for value in (1, 'a', 'abc', 1.0, 1+3j, True, [1, 2, 3], (1, 2, 3), None):\n",
    "  print( f'type of {value} is {type(value)}' )"
   ]
  },
  {
   "cell_type": "code",
   "execution_count": null,
   "metadata": {},
   "outputs": [],
   "source": [
    "# 2.6.b - type-testing for various combinations of values and types\n",
    "# Type-testing for None is in Jupyter is inconvenient for two reasons:\n",
    "# - Python 3 eliminated 'NoneType', which, in Python 2, was the type of 'None'\n",
    "# - Jupyter, unlike the Python interpreter, rejects the expression *type(None)*\n",
    "\n",
    "for value in (1, 'a', 'abc', 1.0, 1+3j, True, [1, 2, 3], (1, 2, 3), None):\n",
    "  for type_ in (object, int, str, float, complex, bool, list, tuple):\n",
    "    print( f\"{value} is {'' if isinstance(value, type_) else 'not '}of type {type_}\" )\n",
    "  print( f\"{value} is {'' if value is None else 'not '}of type NoneType\" )\n",
    "  print('---')"
   ]
  },
  {
   "cell_type": "code",
   "execution_count": null,
   "metadata": {},
   "outputs": [],
   "source": [
    "# 2.6.c - type-testing for cross-type values\n",
    "\n",
    "metatypes =  (((int, float), 'real number'),)\n",
    "metatypes += (((int, float, complex), 'number'),)\n",
    "metatypes += (((int, float, complex, str), 'scalar'),)\n",
    "metatypes += (((str, tuple, list), 'sequence'),)\n",
    "metatypes += (((tuple, list, dict), 'collection'),)\n",
    "\n",
    "for value in (1, 'a', 'abc', 1.0, 1+3j, True, [1, 2, 3], (1, 2, 3), None):\n",
    "  for (metatype, metatype_name) in metatypes:\n",
    "    print( f\"{value} is {'' if isinstance(value,metatype) else 'not '}of type {metatype_name}\" )\n",
    "  print('---')"
   ]
  }
 ],
 "metadata": {
  "kernelspec": {
   "display_name": "Python 3",
   "language": "python",
   "name": "python3"
  },
  "language_info": {
   "codemirror_mode": {
    "name": "ipython",
    "version": 3
   },
   "file_extension": ".py",
   "mimetype": "text/x-python",
   "name": "python",
   "nbconvert_exporter": "python",
   "pygments_lexer": "ipython3",
   "version": "3.8.1"
  }
 },
 "nbformat": 4,
 "nbformat_minor": 2
}
