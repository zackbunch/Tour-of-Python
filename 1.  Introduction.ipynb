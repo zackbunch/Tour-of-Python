{
 "cells": [
  {
   "cell_type": "markdown",
   "metadata": {},
   "source": [
    "*********************************************************************************************************\n",
    "# A Tour of Python 3\n",
    "version 0.9 (alpha)\n",
    "\n",
    "Authors: Phil Pfeiffer, Zack Bunch, and Feyi Oyeniyi<br>\n",
    "East Tennessee State University<br>\n",
    "Last updated February 2020<br>\n",
    "\n",
    "*********************************************************************************************************"
   ]
  },
  {
   "cell_type": "markdown",
   "metadata": {},
   "source": [
    "# Contents <a name='Contents'></a><br> \n",
    "1. [Introduction](#Introduction) <br>\n",
    " &ensp; 1.1 [About This Document](#About-This-Document) <br>\n",
    " &ensp; 1.2 [About Python](#About-Python) <br>\n",
    " &ensp; 1.3 [ About Jupyter Notebooks](#Hints-For-Using-Jupyter-Notebooks)"
   ]
  },
  {
   "cell_type": "markdown",
   "metadata": {},
   "source": [
    "# 1. Introduction <a name = 'Introduction'></a>"
   ]
  },
  {
   "cell_type": "markdown",
   "metadata": {},
   "source": [
    "## 1.1  About This Document <a name='About-This-Document'></a>\n",
    "This document provides a hands-on introduction to the Python programming language.  Reasons for learning Python include the following:\n",
    "-  its widespread adoption by the software community, as attested to by\n",
    "   -  its high ranking at 'mindshare' websites like www.tiobe.com\n",
    "   -  its use in enterprises like Google and the U.S. Dept. of Energy;\n",
    "   -  its open-source license and extensive set of libraries\n",
    "-  its support for multiple programming paradigms, including procedural, functional, and object-oriented programming; and\n",
    "-  its interactive, command-line-based interpreter, which affords more rapid feedback than classic compiler-based languages\n",
    "\n",
    "This document covers the most recent release of Python as of this writing, version 3.8. It is not intended as a guide for Python versions 1.x and 2.x,\n",
    "neither of which is syntactically compatible with Python 3.  Also, it covers features in Python 3.8, like format strings, which are missing from some\n",
    "or all pre-3.8 versions of Python.\n",
    "\n",
    "This document assumes familiarity with a contemporary object-oriented programming language, like C++, Java, or C#. It is best viewed in Jupyter notebooks."
   ]
  },
  {
   "cell_type": "markdown",
   "metadata": {},
   "source": [
    "## 1.2  About Python <a name='About-Python'></a>\n",
    "Python was created by a Dutch graduate student, Guido von Rossum, as a simple language for programming distributed operating systems.  The old Python manifesto, which is still displayed by Python interpreters when one executes *import this*, describes Python as a language that provides exactly one, best way of doing things. Over time, however, Python has become as feature-rich-- or, for some, bloated-- as any contemporary object-oriented (OO) language. Still, Python's syntax and interpreter help make the language easy to code-- and much can be coded in a relatively small subset of Python.\n",
    "\n",
    "Python combines features of three major programming paradigms in common use.\n",
    "-  It's *procedural*, meaning that logic can be framed in terms of \"plain old\" loops, functions, and assignment statements.\n",
    "-  It's *object-oriented*, meaning that logic can be framed in terms of classes, along with classic mechanisms of class-based logic,    such as (multiple) inheritance and polymorphism.\n",
    "-  It supports *functional* programming, including generators and library methods that operate on streams of values.\n",
    "All three paradigms are featured on this document.\n",
    "\n",
    "Due to Python's size, a thorough review of [Python's documentation](https://docs.python.org/3/), together with supporting references like Mark Lutz's <u>Learning Python</u>, 5th edition, Mark Summerfield's <u>Python3 </u>, and Douglas Hellman's <u>The Python 3 Standard Library by Example</u> are needed to do the language justice.  This document's explanations, examples, and exercises are meant to convey a feel for key language features,  as well as for what differentiates interpreted languages like Python from compiled languages: e.g.,\n",
    "-  the ability to dynamically generate and execute code;\n",
    "-  the joys and headaches of type-declaration-free variable management; and\n",
    "-  the lack of true information hiding."
   ]
  },
  {
   "cell_type": "code",
   "execution_count": null,
   "metadata": {},
   "outputs": [],
   "source": [
    "# 1.1 The original Python manifesto\n",
    "\n",
    "import this"
   ]
  },
  {
   "cell_type": "markdown",
   "metadata": {},
   "source": [
    "### 1.3  About Jupyter Notebooks <a name='Hints-For-Using-Jupyter-Notebooks'></a>\n",
    "This document is best viewed in [Jupyter notebooks](https://jupyter.org/). Running Jupyter on a Windows port of Python 3.8 or later, requires the following:\n",
    "-  downloading and installing [Microsoft Visual C++ v14.0](https://visualstudio.microsoft.com/downloads/) or later\n",
    "-  adding the following lines to the Tornado distribution's asyncio.py file after the line `import asyncio`, most likely in    C:\\Users\\[USERNAME]\\AppData\\Local\\Programs\\Python\\Python38-32\\Lib\\site-packages\\tornado\\platform\\: <br><br>`  from sys import platform` <br>`  if platform == \"win32\":` <br>&ensp;  &ensp;  `  asyncio.set_event_loop_policy(asyncio.WindowsSelectorEventLoopPolicy()) # python-3.8.x` <br><br>The first two lines should be flush left in the file.  Indent the third by two spaces.\n",
    "\n",
    "For more in the patch to asyncio.py, see [this StackOverflow article](https://stackoverflow.com/questions/54805213/jupyter-notebook-cannot-start-with-python-3-8-in-windows-10). \n",
    "\n",
    "The Jupyter Notebook App supports two modes: command mode and edit mode. The following are Windows and Linux shortcuts for both modes:\n",
    "- `Shift + Enter` - run the current cell, select below\n",
    "- `Ctrl + Enter` - run selected cells\n",
    "- `Alt + Enter` - run the current cell, insert below\n",
    "- `Ctrl + S` - save and checkpoint\n",
    "\n",
    "Mac users have different buttons for Ctrl, Shift, and Alt:\n",
    "- `Ctrl` - command key ⌘\n",
    "- `Shift` - Shift ⇧\n",
    "- `Alt` - option ⌥\n",
    "\n",
    "By default, Jupyter autosaves changes to notebooks every 120 seconds. The Python 3 notebook interface lacks a control for changing this setting. \n",
    "This time interval can, however, be adjusted by executing the command `%autosave n` in a notebook cell, where `n` is the interval between \n",
    "saves, in seconds.  A special version of this command, `%autosave 0`, disables autosaving altogether."
   ]
  },
  {
   "cell_type": "markdown",
   "metadata": {},
   "source": [
    "#### Jupyter Command Mode Commands <a name='Jupyter-Command-Mode-Commands'></a>\n",
    "While in command mode (press Esc to activate):\n",
    "- `Enter` - changes to edit mode\n",
    "- `H` - show all shortcuts\n",
    "- `Up` - select cell above\n",
    "- `Down` - select cell below\n",
    "- `Shift + Up` - extend selected cells above\n",
    "- `Shift + Down` - extend selected cells below\n",
    "- `A` - insert cell above\n",
    "- `B` - insert cell below\n",
    "- `X` - cut selected cells\n",
    "- `C` - copy selected cells\n",
    "- `V` - paste cells below\n",
    "- `Shift + V` - paste cells above\n",
    "- `D, D` (press the key twice) - delete selected cells\n",
    "- `Z` - undo cell deletion\n",
    "- `S` - save and checkpoint\n",
    "- `Y` - change the cell type to Code\n",
    "- `M` - change the cell type to Markdown\n",
    "- `P` - open the command palette. This palette is really useful for identifying shortcuts for desired commands."
   ]
  }
 ],
 "metadata": {
  "kernelspec": {
   "display_name": "Python 3",
   "language": "python",
   "name": "python3"
  },
  "language_info": {
   "codemirror_mode": {
    "name": "ipython",
    "version": 3
   },
   "file_extension": ".py",
   "mimetype": "text/x-python",
   "name": "python",
   "nbconvert_exporter": "python",
   "pygments_lexer": "ipython3",
   "version": "3.8.1"
  }
 },
 "nbformat": 4,
 "nbformat_minor": 2
}
