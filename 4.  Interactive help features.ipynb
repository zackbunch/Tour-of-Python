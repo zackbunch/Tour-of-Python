{
 "cells": [
  {
   "cell_type": "markdown",
   "metadata": {},
   "source": [
    "*********************************************************************************************************\n",
    "# A Tour of Python 3\n",
    "version 0.9 (alpha)\n",
    "\n",
    "Authors: Phil Pfeiffer, Zack Bunch, and Feyi Oyeniyi<br>\n",
    "East Tennessee State University<br>\n",
    "Last updated February 2020<br>\n",
    "\n",
    "*********************************************************************************************************"
   ]
  },
  {
   "cell_type": "markdown",
   "metadata": {},
   "source": [
    "# Contents <a name='Contents'></a> <br> \n",
    "4. [Interactive help features](#Interactive-Help-Features)<br>\n",
    " &ensp; 4.1 [Dir](#Interactive-Help-Features-Dir) <br>\n",
    " &ensp; 4.2 [Docstrings](#Interactive-Help-Features-Docstrings)\n"
   ]
  },
  {
   "cell_type": "markdown",
   "metadata": {},
   "source": [
    "# 4.  Interactive help features <a name='Interactive-Help-Features'></a>\n"
   ]
  },
  {
   "cell_type": "markdown",
   "metadata": {},
   "source": [
    "## 4.1 Dir <a name='Interactive-Help-Features-Dir'></a>\n",
    "Python's `dir` function is commonly used to an object's or module's attributes.\n",
    "- `dir()`\n",
    "  -  when invoked with no arguments, lists all references to any objects in the Python interpreter's current scope.\n",
    "  -  when invoked at the level of the initial Python prompt, shows identifiers at global scope.\n",
    "- `dir(x)` shows attributes in object x\n"
   ]
  },
  {
   "cell_type": "markdown",
   "metadata": {},
   "source": [
    "## 4.2 Docstrings <a name='Interactive-Help-Features-Docstrings'></a>\n",
    "`__doc__` attributes, also known as *docstrings*, are a common means for learning about an object's behavior.\n",
    "Docstrings are descriptive strings that an object's developers are encouraged-- but not required-- to associate with that object.\n",
    "By convention, a docstring\n",
    "-  describes the purpose and use of its associated object\n",
    "-  may specify test cases for an object's associated methods, in ways that support those methods' automated testing\n",
    "   via Python library test routines.\n",
    "\n",
    "These examples uses the following additional Python constructs:\n",
    "-  `eval(..expr..)` \n",
    "   -  Effect:\n",
    "      -  interprets a string `..expr..` that represents a Python expression in the current environment\n",
    "      -  returns this interpretation's result.\n",
    "   -  Functions like `eval` are commonly used in interpreted languages to dynamically create and execute code\n",
    "   -  `eval` only evaluates expressions; statements must be evaluated using *exec*, rather than *eval*\n",
    "-  `try:/except`:  Python's version of the classic exception-handling block\n",
    "   -  Exceptions throw objects that should be-- but aren't always-- self-describing.\n",
    "   -  The *try:/except Exception as exception:* formulation\n",
    "      -  catches all exceptions not caught to this point\n",
    "      -  associates the exception object with an identifier named *err*\n",
    "   -  The `str(exception)` checks if *exception* has a string that describes the exception\n",
    "      -  If not, the expression returns *None*, Python's version of the null object\n"
   ]
  },
  {
   "cell_type": "code",
   "execution_count": null,
   "metadata": {},
   "outputs": [],
   "source": [
    "# 4.2a show the use of a \"for\" loop to display all docstrings in Python's math module\n",
    "\n",
    "if 'math' not in dir(): import math\n",
    "\n",
    "for item in dir(math):\n",
    "  if '__doc__' in dir(item):\n",
    "    try:\n",
    "      try:\n",
    "        this_docstring = eval( f'math.{item}.__doc__' )\n",
    "      except:\n",
    "        this_docstring = eval( f'{item}.__doc__' )\n",
    "      print( f'{item}:\\n{this_docstring}' )\n",
    "    except Exception as exception:\n",
    "      errmsg = '' if str(exception) is None else str(exception)\n",
    "      print( f'{item}: cannot access docstring - {errmsg}' )\n",
    "  else:\n",
    "    print( f'{item} has no docstring' )\n",
    "  print( '-----' )"
   ]
  },
  {
   "cell_type": "code",
   "execution_count": null,
   "metadata": {},
   "outputs": [],
   "source": [
    "# 4.2b show the use of a \"for\" loop to display all docstrings in a list of modules\n",
    "\n",
    "modules_to_document = [ 'math' ]\n",
    "\n",
    "for module in modules_to_document:\n",
    "  if module not in dir(): eval( 'import '+ module )\n",
    "  for item in eval( f'dir({module})' ):\n",
    "    if '__doc__' in dir(item):\n",
    "      try:\n",
    "        try:\n",
    "          this_docstring = eval( f'{module}.{item}.__doc__' )\n",
    "        except:\n",
    "          this_docstring = eval( f'{item}.__doc__' )\n",
    "        print( f'{module}.{item}:\\n{this_docstring}' )\n",
    "      except Exception as exception:\n",
    "        errmsg = '' if str(exception) is None else str(exception)\n",
    "        print( f'{module}.{item}: cannot access docstring - {errmsg}' )\n",
    "    else:\n",
    "      print( f'{module}.{item} has no docstring' )\n",
    "    print( '-----' )"
   ]
  },
  {
   "cell_type": "markdown",
   "metadata": {},
   "source": [
    "**Exercises:**\n",
    "-  Repeat the above exercise, substituting `__builtins__`, Python's builtin-function module, for `math`.\n",
    "-  Repeat the above exercise, \n",
    "   -  substituting `__builtins__` for `math` *and* \n",
    "   -  replacing the body of the `if` statement with two statements:\n",
    "      -  the first assignment to `this_docstring`\n",
    "      -  the `print` statement\n",
    "\n",
    " &ensp; What changes?  Why?"
   ]
  }
 ],
 "metadata": {
  "kernelspec": {
   "display_name": "Python 3",
   "language": "python",
   "name": "python3"
  },
  "language_info": {
   "codemirror_mode": {
    "name": "ipython",
    "version": 3
   },
   "file_extension": ".py",
   "mimetype": "text/x-python",
   "name": "python",
   "nbconvert_exporter": "python",
   "pygments_lexer": "ipython3",
   "version": "3.8.1"
  }
 },
 "nbformat": 4,
 "nbformat_minor": 2
}
