{
 "cells": [
  {
   "cell_type": "markdown",
   "metadata": {},
   "source": [
    "*********************************************************************************************************\n",
    "# A Tour of Python 3\n",
    "version 0.9 (alpha)\n",
    "\n",
    "Authors: Phil Pfeiffer, Zack Bunch, and Feyi Oyeniyi<br>\n",
    "East Tennessee State University<br>\n",
    "Last updated February 2020<br>\n",
    "\n",
    "*********************************************************************************************************"
   ]
  },
  {
   "cell_type": "markdown",
   "metadata": {},
   "source": [
    "# 13.  Command Line Processing <a name='Command-Line-Processing'></a>\n"
   ]
  },
  {
   "cell_type": "markdown",
   "metadata": {},
   "source": [
    "##  13.1  Invoking a program from the command line, with arguments <a name='Command-Line-Processing-Invoking-With-Arguments'></a>\n",
    "Python programs, per POSIX conventions, can be invoked from the command line, with supporting arguments. \n",
    "The following example shows how a program can use Python's `sys.argv` built-in to read its arguments.  \n",
    "It also shows the use of Python's `subprocess` library to invoke a program from Jupyter: \n",
    "in this case, the sample program that illustrates command-line processing.\n",
    "\n",
    "This example uses the following Python library resources:\n",
    "-  `sys.argv` - a program's first (0th) argument is the name by which it was invoked; the balance are its remaining command line arguments.\n",
    "-  `subprocess.run` - executes a program in a subshell, returning the program's final exit status, \n",
    "   and an object that captures that program's standard and error output streams, if `capture_output` is `True`."
   ]
  },
  {
   "cell_type": "code",
   "execution_count": null,
   "metadata": {},
   "outputs": [],
   "source": [
    "# 13.1  Create, then run, a program, passing it command-line arguments and recovering its output\n",
    "\n",
    "# ## import directives ##\n",
    "#  subprocess.run - executes a program in a subshell\n",
    "#  os.remove - deletes specified file\n",
    "#\n",
    "import subprocess, os\n",
    "\n",
    "# ## program constants ##\n",
    "CREATE_NEW_FILE = 'x'   # python open mode\n",
    "FAILURE_EXIT = 1        # POSIX error code for program failure\n",
    "\n",
    "# ## supporting functions ##\n",
    "byte_seq_to_string = lambda byteseq: ''.join( chr(byte) for byte in byteseq )\n",
    "\n",
    "# - program to create\n",
    "#\n",
    "program_file_name = 'test.py'\n",
    "program_content = [\n",
    "    '# import directives\\n',\n",
    "    '# - sys.argv - list of command line arguments\\n',\n",
    "    '# - sys.stderr - error output\\n',\n",
    "    '# \\n',\n",
    "    'import sys\\n',\n",
    "    '\\n',\n",
    "    '# program constants \\n',\n",
    "    'FAILURE_EXIT = 1    # POSIX error code for program failure\\n',\n",
    "    '\\n',\n",
    "    '# supporting functions\\n',\n",
    "    '# \\n',\n",
    "    'def make_numeric(string):\\n'\n",
    "    '  try:\\n',\n",
    "    '    return int(string)\\n', \n",
    "    '  except ValueError:\\n',\n",
    "    '    return float(string)\\n', \n",
    "    '\\n',\n",
    "    'def plus(x, y): return x + y\\n',\n",
    "    '\\n',\n",
    "    'if __name__ == \"__main__\":\\n',\n",
    "    '  try:\\n',\n",
    "    '    assert len(sys.argv) >= 3, f\"?? {sys.argv[0]}: insufficient arguments ({len(sys.argv)-1}); 2 required\"\\n',\n",
    "    '    a, b = make_numeric(sys.argv[1]), make_numeric(sys.argv[2])\\n',\n",
    "    '    print( a, \"+\", b, \"is\", plus(a, b))\\n',\n",
    "    '  except Exception as exception:\\n',\n",
    "    '    exception_message = \"\" if str(exception) is None else str(exception)\\n',\n",
    "    '    print( f\"?? {sys.argv[0]}: exiting\", exception_message, file=sys.stderr )\\n'\n",
    "    '    exit( FAILURE_EXIT )\\n'\n",
    "]\n",
    "trial_1 = [ '3', '4.2' ]\n",
    "trial_2 = [ '3', 'four point two']\n",
    "trial_3 = [ '3' ]\n",
    "list_of_trials = [ trial_1, trial_2, trial_3 ]\n",
    "\n",
    "# main proper\n",
    "#\n",
    "with open( program_file_name, CREATE_NEW_FILE ) as program_fd:\n",
    "    for line in program_content:\n",
    "        program_fd.write( line )\n",
    "for (trial_number, this_trial) in enumerate(list_of_trials):\n",
    "    print( 'executing sample program with argument list of ', this_trial )\n",
    "    program_status = subprocess.run( [ 'python', program_file_name ] + this_trial, capture_output=True )\n",
    "    print( 'return code is', program_status.returncode )\n",
    "    standard_output = byte_seq_to_string( program_status.stdout )\n",
    "    print( '> no standard output returned <' if standard_output == '' else 'standard output: ' + standard_output )\n",
    "    error_output = byte_seq_to_string( program_status.stderr )\n",
    "    print( '> no error output returned <' if error_output == '' else 'error output: ' + error_output )\n",
    "    if trial_number+1 < len(list_of_trials): print( '---------------\\n' )\n",
    "os.remove( program_file_name )"
   ]
  },
  {
   "cell_type": "code",
   "execution_count": null,
   "metadata": {},
   "outputs": [],
   "source": []
  }
 ],
 "metadata": {
  "kernelspec": {
   "display_name": "Python 3",
   "language": "python",
   "name": "python3"
  },
  "language_info": {
   "codemirror_mode": {
    "name": "ipython",
    "version": 3
   },
   "file_extension": ".py",
   "mimetype": "text/x-python",
   "name": "python",
   "nbconvert_exporter": "python",
   "pygments_lexer": "ipython3",
   "version": "3.8.1"
  }
 },
 "nbformat": 4,
 "nbformat_minor": 2
}
