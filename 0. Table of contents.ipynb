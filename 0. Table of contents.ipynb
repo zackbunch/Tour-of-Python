{
 "cells": [
  {
   "cell_type": "markdown",
   "metadata": {},
   "source": [
    "*********************************************************************************************************\n",
    "# A Tour of Python 3\n",
    "version 0.9 (alpha)\n",
    "\n",
    "Authors: Phil Pfeiffer, Zack Bunch, and Feyi Oyeniyi<br>\n",
    "East Tennessee State University<br>\n",
    "Last updated February 2020<br>\n",
    "\n",
    "*********************************************************************************************************"
   ]
  },
  {
   "cell_type": "markdown",
   "metadata": {},
   "source": [
    "## Table of Contents <a name='table-of-content'></a> <br> \n",
    "[1. Introduction](./1.%20%20Introduction.ipynb) <br>\n",
    "[2. Values](./2.%20%20Values.ipynb) <br>\n",
    "[3. Objects and Identifiers](./3.%20%20Objects%20and%20Identifiers.ipynb) <br>\n",
    "[4. Interactive help features](./4.%20%20Interactive%20help%20features.ipynb)<br>\n",
    "[5. Builtin data structures](./5.%20%20Builtin%20data%20structures.ipynb)<br>\n",
    "[6. Control structures](./6.%20%20Control%20structures.ipynb) <br>\n",
    "[7. Functions](./7.%20%20Functions.ipynb)<br>\n",
    "[8. Functional programming features](./8.%20%20Functional%20programming%20features.ipynb)<br>\n",
    "[9. Classes](./9.%20%20Classes.ipynb)<br>\n",
    "[10. OO programming in Python](./10.%20OO%20programming%20in%20Python.ipynb)<br>\n",
    "[11. Modules](./11.%20Modules.ipynb)<br>\n",
    "[12. Packages](./12.%20Packages.ipynb)<br>\n",
    "[13. Command line processing](./13.%20Command%20line%20processing.ipynb)<br>\n",
    "[Appendix A - Installing a Python Interpreter](./Appendix%20A%20-%20Installing%20a%20Python%20Interpreter.ipynb)<br>\n",
    "[Appendix B - Sample Python Programs](./Appendix%20B%20-%20Sample%20Python%20Programs.ipynb)<br>"
   ]
  }
 ],
 "metadata": {
  "kernelspec": {
   "display_name": "Python 3",
   "language": "python",
   "name": "python3"
  },
  "language_info": {
   "codemirror_mode": {
    "name": "ipython",
    "version": 3
   },
   "file_extension": ".py",
   "mimetype": "text/x-python",
   "name": "python",
   "nbconvert_exporter": "python",
   "pygments_lexer": "ipython3",
   "version": "3.8.1"
  }
 },
 "nbformat": 4,
 "nbformat_minor": 2
}
