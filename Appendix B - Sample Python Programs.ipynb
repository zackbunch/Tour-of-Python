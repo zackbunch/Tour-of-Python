{
 "cells": [
  {
   "cell_type": "markdown",
   "metadata": {},
   "source": [
    "*********************************************************************************************************\n",
    "# A Tour of Python 3\n",
    "version 0.9 (alpha)\n",
    "\n",
    "Authors: Phil Pfeiffer, Zack Bunch, and Feyi Oyeniyi<br>\n",
    "East Tennessee State University<br>\n",
    "Last updated February 2020<br>\n",
    "\n",
    "*********************************************************************************************************"
   ]
  },
  {
   "cell_type": "markdown",
   "metadata": {},
   "source": [
    "# Contents <a name='Contents'> <br> </a>\n",
    "[Appendix B.  Sample Python programs](#Sample-Python-Programs) <br>\n",
    " &ensp; 1. [Retrieving a random percentage of a text file's lines](#Retrieve-Random-Percentage-Of-File) <br>\n",
    " &ensp; 2. [Stupid-simple primes generation](#Prime-Finding-Programs) <br>\n",
    " &ensp;&ensp; 2.1 [First primes example](#First-Primes-Example) <br>\n",
    " &ensp;&ensp; 2.2 [Second primes example](#Second-Primes-Example) <br>\n",
    " &ensp;&ensp; 2.3 [Third primes example](#Third-Primes-Example) <br>\n",
    " &ensp;&ensp; 2.4 [Fourth primes example](#Fourth-Primes-Example) <br>\n",
    " &ensp;&ensp; 2.5 [Fifth primes example](#Fifth-Primes-Example) <br>\n",
    " &ensp;&ensp; 2.6 [Sixth primes example](#Sixth-Primes-Example)  <br>\n",
    " &ensp;&ensp; 2.7 [Seventh primes example](#Seventh-Primes-Example) <br>\n",
    " &ensp; 3. [Python dispatcher program](#Python-Dispatcher) <br>\n",
    " &ensp; 4. [Game of life program](#Conway-Game-Of-Life)"
   ]
  },
  {
   "cell_type": "markdown",
   "metadata": {},
   "source": [
    "# Appendix B.  Sample Python programs <a name='Sample-Python-Programs'></a>\n"
   ]
  },
  {
   "cell_type": "markdown",
   "metadata": {},
   "source": [
    "## 1. Retrieving a random percentage of a text file's lines <a name='Retrieve-Random-Percentage-Of-File'></a>"
   ]
  },
  {
   "cell_type": "code",
   "execution_count": null,
   "metadata": {},
   "outputs": [],
   "source": [
    "import random\n",
    "\n",
    "# strategy 1: load entire file into memory before processing it\n",
    "#\n",
    "def random_subfile( file_name, percent ):\n",
    "  #\n",
    "  # from Python library, 10.1.2. Itertools Recipes\n",
    "  #\n",
    "  def random_combination(iterable, r):\n",
    "    pool = tuple(iterable)\n",
    "    n = len(pool)\n",
    "    indices = sorted(random.sample(range(n), r))\n",
    "    return tuple(pool[i] for i in indices)\n",
    "  #\n",
    "  assert (0 < percent <= 100 ), f'percentage argument ({percent}) not in range' \n",
    "  #\n",
    "  # reduce file to a vector of lines\n",
    "  #\n",
    "  file_handle = open( file_name )\n",
    "  file_content = file_handle.read().splitlines()\n",
    "  file_handle.close()\n",
    "  #\n",
    "  # then, return the specified percentage of lines as a vector\n",
    "  #\n",
    "  return [file_content[i] for i in random_combination( range(len(file_content)), len(file_content) * percent // 100 )]\n",
    "\n",
    "random_subfile( 'Appendix B - Sample Python Programs.ipynb', 10)\n"
   ]
  },
  {
   "cell_type": "markdown",
   "metadata": {},
   "source": [
    "## 2. Stupid-simple primes generation <a name='Prime-Finding-Programs'></a>"
   ]
  },
  {
   "cell_type": "markdown",
   "metadata": {},
   "source": [
    "The following is a classic, very stupid algorithm for testing if x is prime. \n",
    "It divides x by all values between 1 and x, checking if any divide x evenly.\n"
   ]
  },
  {
   "cell_type": "markdown",
   "metadata": {},
   "source": [
    "### 2.1 First primes example <a name= 'First-Primes-Example'></a>"
   ]
  },
  {
   "cell_type": "code",
   "execution_count": null,
   "metadata": {},
   "outputs": [],
   "source": [
    "def way_stupid_factor_checker(potential_prime):\n",
    "  is_prime = True\n",
    "  for potential_divisor in range(2, potential_prime):\n",
    "    if potential_prime % potential_divisor == 0:\n",
    "      print( f'{potential_prime} // {potential_divisor} = {potential_prime // potential_divisor}' )\n",
    "      is_prime = False\n",
    "  return is_prime\n",
    "\n",
    "def do_prime_test(potential_prime, factor_checking_function):\n",
    "   print( f\"{potential_prime} is{' not' if not(factor_checking_function(potential_prime)) else ''} prime\" )\n",
    "\n",
    "def do_way_stupid_prime_test(potential_prime):\n",
    "   do_prime_test(potential_prime, way_stupid_factor_checker)\n",
    "\n",
    "do_way_stupid_prime_test(2)\n",
    "do_way_stupid_prime_test(97)\n",
    "do_way_stupid_prime_test(323)\n",
    "do_way_stupid_prime_test(324)\n"
   ]
  },
  {
   "cell_type": "markdown",
   "metadata": {},
   "source": [
    "### 2.2 Second primes example <a name= 'Second-Primes-Example'></a>"
   ]
  },
  {
   "cell_type": "markdown",
   "metadata": {},
   "source": [
    "This next example replaces the `for` loop in the first code with a comprehension.\n"
   ]
  },
  {
   "cell_type": "code",
   "execution_count": null,
   "metadata": {},
   "outputs": [],
   "source": [
    "def way_stupid_factor_checker(potential_prime):\n",
    "  return [ f'{potential_prime} // {potential_divisor} = {potential_prime // potential_divisor}' \n",
    "               for potential_divisor in range(2, potential_prime)\n",
    "               if potential_prime % potential_divisor == 0\n",
    "         ]\n",
    "\n",
    "def do_prime_test(potential_prime, factor_checking_function):\n",
    "   non_prime_cases = factor_checking_function(potential_prime)\n",
    "   for case in non_prime_cases:  print(case)\n",
    "   print( f\"{potential_prime} is{' not' if len(non_prime_cases) else ''} prime\" )\n",
    "\n",
    "do_way_stupid_prime_test(2)\n",
    "do_way_stupid_prime_test(97)\n",
    "do_way_stupid_prime_test(323)\n",
    "do_way_stupid_prime_test(324)\n"
   ]
  },
  {
   "cell_type": "markdown",
   "metadata": {},
   "source": [
    "### 2.3 Third primes example <a name= 'Third-Primes-Example'></a>"
   ]
  },
  {
   "cell_type": "markdown",
   "metadata": {},
   "source": [
    "This third example shrinks the range for testing primality, checking for factors up to and\n",
    "including the value's square root.\n",
    "\n",
    "Mathematicians have figured out how to do much better than this -- but it's a start.\n"
   ]
  },
  {
   "cell_type": "code",
   "execution_count": null,
   "metadata": {},
   "outputs": [],
   "source": [
    "from math import ceil, sqrt\n",
    "\n",
    "def stupid_factor_checker(potential_prime):\n",
    "  return [ f'{potential_prime} // {potential_divisor} = {potential_prime // potential_divisor}' \n",
    "               for potential_divisor in range(2, ceil(sqrt(potential_prime+1)))\n",
    "               if potential_prime % potential_divisor == 0\n",
    "         ]\n",
    "\n",
    "def do_stupid_prime_test(potential_prime):\n",
    "   do_prime_test(potential_prime, stupid_factor_checker)\n",
    "\n",
    "do_stupid_prime_test(2)\n",
    "do_stupid_prime_test(97)\n",
    "do_stupid_prime_test(323)\n",
    "do_stupid_prime_test(324)"
   ]
  },
  {
   "cell_type": "markdown",
   "metadata": {},
   "source": [
    "### 2.4 Fourth primes example <a name= 'Fourth-Primes-Example'></a>"
   ]
  },
  {
   "cell_type": "markdown",
   "metadata": {},
   "source": [
    "The following, fourth example is a less verbose version of the previous algorithm.\n"
   ]
  },
  {
   "cell_type": "code",
   "execution_count": null,
   "metadata": {},
   "outputs": [],
   "source": [
    "from math import ceil, sqrt\n",
    "def has_factors(potential_prime):\n",
    "  return any([potential_prime % potential_divisor == 0 for potential_divisor in range(2, ceil(sqrt(potential_prime+1)))])\n",
    "\n",
    "print( '  2:', has_factors(2) )\n",
    "print( ' 97:', has_factors(97) )\n",
    "print( '323:', has_factors(323) )\n",
    "print( '324:', has_factors(324) )"
   ]
  },
  {
   "cell_type": "markdown",
   "metadata": {},
   "source": [
    "### 2.5 Fifth primes example <a name= 'Fifth-Primes-Example'></a>"
   ]
  },
  {
   "cell_type": "markdown",
   "metadata": {},
   "source": [
    "This fifth example provides a function that lists primes in a given range.\n"
   ]
  },
  {
   "cell_type": "code",
   "execution_count": null,
   "metadata": {},
   "outputs": [],
   "source": [
    "def has_factors(potential_prime):\n",
    "  return any([potential_prime % potential_divisor == 0 for potential_divisor in range(2, ceil(sqrt(potential_prime+1)))])\n",
    "\n",
    "primes_up_to = lambda value:  [potential_prime for potential_prime in range(2,value+1) if not(has_factors(potential_prime))]\n",
    "\n",
    "print( '  2:', primes_up_to(2) )\n",
    "print( ' 97:', primes_up_to(97) )\n",
    "print( '323:', primes_up_to(323) )\n",
    "print( '324:', primes_up_to(324) )"
   ]
  },
  {
   "cell_type": "markdown",
   "metadata": {},
   "source": [
    "### 2.6 Sixth primes example <a name= 'Sixth-Primes-Example'></a>"
   ]
  },
  {
   "cell_type": "markdown",
   "metadata": {},
   "source": [
    "This sixth example collapses the two functions into a single function by inlining has_factors.\n"
   ]
  },
  {
   "cell_type": "code",
   "execution_count": null,
   "metadata": {},
   "outputs": [],
   "source": [
    "primes_up_to = lambda v:  [p for p in range(2,v+1) if not(any([p % potential_divisor == 0 for potential_divisor in range(2, ceil(sqrt(p+1)))]))]\n",
    "\n",
    "print( '  2:', primes_up_to(2) )\n",
    "print( ' 97:', primes_up_to(97) )\n",
    "print( '323:', primes_up_to(323) )\n",
    "print( '324:', primes_up_to(324) )"
   ]
  },
  {
   "cell_type": "markdown",
   "metadata": {},
   "source": [
    "### 2.7 Seventh primes example <a name= 'Seventh-Primes-Example'></a>"
   ]
  },
  {
   "cell_type": "markdown",
   "metadata": {},
   "source": [
    "This final version implements a best practice in readability by eliminating \"not\" (as in \"not(any\") in favor of \"all\"\n"
   ]
  },
  {
   "cell_type": "code",
   "execution_count": null,
   "metadata": {},
   "outputs": [],
   "source": [
    "primes_up_to = lambda v:  [p for p in range(2,v+1) if all([p % d != 0 for d in range(2, ceil(sqrt(p+1)))])]\n",
    "\n",
    "print( '  2:', primes_up_to(2) )\n",
    "print( ' 97:', primes_up_to(97) )\n",
    "print( '323:', primes_up_to(323) )\n",
    "print( '324:', primes_up_to(324) )"
   ]
  },
  {
   "cell_type": "markdown",
   "metadata": {},
   "source": [
    "## 3. Python dispatcher program <a name='Python-Dispatcher'></a>"
   ]
  },
  {
   "cell_type": "markdown",
   "metadata": {},
   "source": [
    "Showing the use of `eval` to implement dynamic dispatch, based on a task's name"
   ]
  },
  {
   "cell_type": "code",
   "execution_count": null,
   "metadata": {},
   "outputs": [],
   "source": [
    "def do_tasks(*task_list):\n",
    "  for (task, parameters) in task_list:\n",
    "    try:\n",
    "      eval(task)(*parameters)\n",
    "    except Exception as exception:\n",
    "      print( f\"exception for task {task}: {'' if str(exception) is None else str(exception)}\" )\n",
    "\n",
    "def clean():\n",
    "   print(\"I'm cleaning the environment\")\n",
    "\n",
    "def allocate_cores(num_cores):\n",
    "   print( f\"I'm allocating {num_cores} cores\" )\n",
    "\n",
    "def setenv_with_dict(env_values):\n",
    "  for (env_var, env_value) in env_values.items():\n",
    "    print( f\"I'm setting {env_var} to {env_value}\" )\n",
    "\n",
    "def setenv_with_pair_list(*env_values):\n",
    "  for (env_var, env_value) in env_values:\n",
    "    print( f\"I'm setting {env_var} to {env_value}\" )\n",
    "\n",
    "task_list =\\\n",
    "  [('clean',[]), \\\n",
    "   ('allocate_cores',[4]), \\\n",
    "   ('setenv_with_dict', [{'a': 'alpha', 'b': 'beta', 'g':'gamma'}]),\\\n",
    "   ('setenv_with_pair_list', [('d', 'delta'), ('e', 'epsilon'), ('p', 'pi')]),\\\n",
    "   ('unsupported_action', [])\n",
    "]\n",
    "\n",
    "do_tasks(*task_list)"
   ]
  },
  {
   "cell_type": "markdown",
   "metadata": {},
   "source": [
    "## 4. Game of life program <a name='Conway-Game-Of-Life'></a> "
   ]
  },
  {
   "cell_type": "markdown",
   "metadata": {},
   "source": [
    "Conway's game of life, as a CLI-based Python script  (with contributions from Adam Ogle). Check [here](http://en.wikipedia.org/wiki/Conway's_Game_of_Life) for more explanation.\n",
    "\n",
    "Imagine how long this program would be if it were written in C++, C#, or Java."
   ]
  },
  {
   "cell_type": "code",
   "execution_count": null,
   "metadata": {},
   "outputs": [],
   "source": [
    "import random, time\n",
    "\n",
    "# set the simulation's size and duration\n",
    "WORLD_SIZE = 50\n",
    "PAUSE_BETWEEN_ITERATIONS = 0.1  # seconds\n",
    "iter_count = 50\n",
    "\n",
    "# generate the initial world\n",
    "world = [[not random.randint(0,7) for j in range(WORLD_SIZE)] for i in range(WORLD_SIZE)]\n",
    "\n",
    "# sum cells in a neighborhood of a cell [i][j] of a 2-D array, \"a\"\n",
    "neighborhood_sum = lambda a, i, j: sum(a[(i+k) % len(a)][(j+l) % len(a[i])] for k in range(-1,2) for l in range(-1,2)) - a[i][j]\n",
    "\n",
    "# run the simulation\n",
    "while iter_count > 0:\n",
    "  # update the world\n",
    "  world = [[(lambda count: count == 3 or world[i][j] and count == 2)(neighborhood_sum(world,i,j)) for j in range(len(world[i]))] for i in range(len(world))]\n",
    "  #\n",
    "  # print the world\n",
    "  for i in world: print(*[\"X\" if j else \" \" for j in i], sep=\"\")\n",
    "  print(\"-\"*len(world))\n",
    "  #\n",
    "  time.sleep( PAUSE_BETWEEN_ITERATIONS )\n",
    "  iter_count -= 1"
   ]
  }
 ],
 "metadata": {
  "kernelspec": {
   "display_name": "Python 3",
   "language": "python",
   "name": "python3"
  },
  "language_info": {
   "codemirror_mode": {
    "name": "ipython",
    "version": 3
   },
   "file_extension": ".py",
   "mimetype": "text/x-python",
   "name": "python",
   "nbconvert_exporter": "python",
   "pygments_lexer": "ipython3",
   "version": "3.8.1"
  }
 },
 "nbformat": 4,
 "nbformat_minor": 2
}
