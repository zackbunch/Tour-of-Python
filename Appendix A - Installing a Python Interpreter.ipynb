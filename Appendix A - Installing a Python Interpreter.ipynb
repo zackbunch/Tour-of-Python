{
 "cells": [
  {
   "cell_type": "markdown",
   "metadata": {},
   "source": [
    "*********************************************************************************************************\n",
    "# A Tour of Python 3\n",
    "version 0.9 (alpha)\n",
    "\n",
    "Authors: Phil Pfeiffer, Zack Bunch, and Feyi Oyeniyi<br>\n",
    "East Tennessee State University<br>\n",
    "Last updated February 2020<br>\n",
    "\n",
    "*********************************************************************************************************"
   ]
  },
  {
   "cell_type": "markdown",
   "metadata": {},
   "source": [
    "# Contents <a name='Contents'></a><br> \n",
    "[Appendix A. Installing a Python Interpreter](#Installing-A-Python-Interpreter) <br>\n",
    " &ensp; 1. [Windows environment](#windows-environment) <br>\n",
    " &ensp;&ensp; 1.1 [As an interactive command line interpreter](#windows-environment-a) <br>\n",
    " &ensp;&ensp; 1.2  [From the Python interactive environment](#windows-environment-b)<br>\n",
    " &ensp;&ensp;&ensp; 1.2.1 [From the Windows program startup menu](#python-interactive-environment-a) <br>\n",
    " &ensp;&ensp;&ensp; 1.2.2 [From the IDLE environment proper](#python-interactive-environment-b) <br>\n",
    " &ensp;&ensp; 1.3  [From the command line](#windows-environment-c) <br>\n",
    " &ensp;&ensp; 1.3.1 [Interactively](#from-the-command-line-a) <br>\n",
    " &ensp;&ensp; 1.3.2 [A command-line command](#from-the-command-line-b) <br>\n",
    " &ensp; 2. [Integrated Development Environment(IDEs)](#IDEs) <br>\n",
    " &ensp;&ensp; 2.1 [Eclipse](#IDEs-eclipse) <br>\n",
    " &ensp;&ensp; 2.2 [Visual Studio Code (VS Code)](#IDEs-visual-studio-code) <br>\n",
    " &ensp;&ensp; 2.3 [Pycharm](#IDEs-pycharm)"
   ]
  },
  {
   "cell_type": "markdown",
   "metadata": {},
   "source": [
    "# Appendix A.  Installing a Python Interpreter <a name='Installing-A-Python-Interpreter'></a>\n",
    "This requires downloading and installing the latest stable release of Python from\n",
    " [Python's Download Page](https://www.python.org/downloads/).\n",
    " As of this writing,\n",
    "- the current stable release was 3.8.1. \n",
    "- the various implementations of this release, including  implementations for Posix, Microsoft, and Mac platforms, can be seen\n",
    " [here](http://www.python.org/download/releases/).\n",
    "- the page that shows Windows releases was [here](https://www.python.org/downloads/release/python-370/).\n",
    "\n",
    "Ensure Python is installed to *default install directory*.\n",
    " Also, when installing Python, ensure the Python directory is included in the *system's PATH variable*."
   ]
  },
  {
   "cell_type": "markdown",
   "metadata": {},
   "source": [
    "# 1. Windows environment <a name='windows-environment'></a>\n"
   ]
  },
  {
   "cell_type": "markdown",
   "metadata": {},
   "source": [
    "This section presents five ways in which Python can be invoked from the Windows environment. Python can be invoked: "
   ]
  },
  {
   "cell_type": "markdown",
   "metadata": {},
   "source": [
    "## 1.1 As an interactive command line interpreter <a name= 'windows-environment-a'></a>"
   ]
  },
  {
   "cell_type": "markdown",
   "metadata": {},
   "source": [
    "From the Windows program startup menu, \n",
    "- Locate the Python 3.8 folder\n",
    "- In the folder, locate Python (command line)\n",
    "- Double click on this icon\n",
    "- You should see a window entitled `Select Python 3.8`\n",
    "- Enter the command `1+2`, followed  by a return\n",
    "- Enter the command `exit()`, then follow directions\n"
   ]
  },
  {
   "cell_type": "markdown",
   "metadata": {},
   "source": [
    "**Note:** Python uses indentation to delimit blocks.\n",
    " As a rule, enter all commands flush left, unless block structure requires otherwise.\n"
   ]
  },
  {
   "cell_type": "markdown",
   "metadata": {},
   "source": [
    "## 1.2 From the Python interactive environment <a name='windows-environment-b'></a>"
   ]
  },
  {
   "cell_type": "markdown",
   "metadata": {},
   "source": [
    "### 1.2.1 From the Windows program startup menu <a name='python-interactive-environment-a'></a>"
   ]
  },
  {
   "cell_type": "markdown",
   "metadata": {},
   "source": [
    "- Locate the Python 3.8. folder\n",
    "- In the folder, locate IDLE (Python GUI)\n",
    "- Double click on this icon.  This should open a window entitled *Python 3.8.1*.\n",
    "- Depending on IDLE's current state, this window might open as a minimized window, requiring Windows Taskbar activation\n",
    "- Enter the command  `1+2`, followed by a return"
   ]
  },
  {
   "cell_type": "markdown",
   "metadata": {},
   "source": [
    "### 1.2.2   From the IDLE environment proper <a name='python-interactive-environment-b'></a>"
   ]
  },
  {
   "cell_type": "markdown",
   "metadata": {},
   "source": [
    "- Open a new edit window, in either of two ways:\n",
    "  - by selecting `File\\New File`\n",
    "  - by entering `Control-N`. Either should open a window entitled *Untitled*\n",
    "- Enter `print(1+2)` into this window\n",
    "- Run this code, in one of two ways\n",
    "  - by selecting `Run\\Run Module`\n",
    "  - by typing the F5 key\n",
    "     IDLE will require you to save this code to a file before running it.\n",
    "     For this demo, save the code as C:\\temp\\temp.py\n",
    "- You should see the result in the window entitled \"Python 3.8.0 Shell\"\n",
    "- Finish by closing both windows.\n"
   ]
  },
  {
   "cell_type": "markdown",
   "metadata": {},
   "source": [
    "## 1.3 From the command line <a name='windows-environment-c'></a>"
   ]
  },
  {
   "cell_type": "markdown",
   "metadata": {},
   "source": [
    "### 1.3.1 Interactively <a name= 'from-the-command-line-a'>"
   ]
  },
  {
   "cell_type": "markdown",
   "metadata": {},
   "source": [
    "- Raise a Windows command prompt window.\n",
    "  - Note:  you can do this by entering `cmd` into the textbox in the Windows startup menu.\n",
    "- Ensure that the Python home directory is in the command prompt window's command path.\n",
    "  - To check if this directory is on the command path, do either of the following:\n",
    "    - Enter the Windows command `echo %PATH%`\n",
    "    - Enter the Windows command `set` then find the line that starts `Path=`\n",
    "  - If this output-- the Path environment variable's string--\n",
    "    lacks a reference to the Python installation directory-- here, assumed to be C:\\Python38\\ --\n",
    "    - Execute the command `set Path=%Path%;C:\\Python38`.  Do **not** leave spaces around the =\n",
    "    - Enter either of those two commands to confirm that Path now includes  C:\\Python38\n",
    "\n",
    "NOTE: this procedure only updates the current cmd window.  To include (say) C:\\Python38\\ in every cmd window's initial path string,\n",
    "- Enter `path` in the Windows startup window\n",
    "- Look for and select either of the two options, depending on your preference:\n",
    "  - `Edit environment variables for your account` - this should expose a dialogue window; changing its entries will just affect your account\n",
    "  - `Edit system environment variables`\n", 
    "     - this should expose a System Properties window; changing its entries will affect all system accounts\n",
    "     -  In this window's \"Advanced\" tab, select \"environment variables\" this should raise a self-explanatory menu that will allow you to change Path\n",
    "- Add the Python directory that contains python.exe to the path\n",
    "- Back out of all menus, okaying all changes as you go\n",
    "\n",
    "To verify that the change to your environment succeeded,\n",
    "- Close `cmd.exe` if it's currently open.  You'll need to do this in order for the change to take effect.\n",
    "- (Re)start `cmd.exe.\n",
    "- At the command line, enter the command `python`\n",
    "  - You should now see the Python command prompt.\n",
    "  - Enter `1+2`     , followed by a return\n",
    "  - Enter `Control-Z` or `exit()` to exit the interactive session.\n"
   ]
  },
  {
   "cell_type": "markdown",
   "metadata": {},
   "source": [
    "### 1.3.2 A command-line command <a name= 'from-the-command-line-b'></a>"
   ]
  },
  {
   "cell_type": "markdown",
   "metadata": {},
   "source": [
    "- Raise a command window whose Path environment variable references Python's installation directory, as described above.\n",
    "- Open a file named (say) C:\\temp\\temp.py in a text editor.\n",
    "- Edit this file so that it contains one line that reads `print(1+2)`. \n",
    "- Position this line flush left in the file.\n",
    "- From the command prompt, enter the command `python c:\\temp\\temp.py`\n",
    "\n",
    "**Note**:  `print(1+2)` is needed instead of `1+2` because \n",
    "the interactive Python interpreter implicitly redirects the output of top-level \"expression statements\" like `1+2` to the user's console. \n",
    "In non-interactive contexts, printout must be requested explicitly."
   ]
  },
  {
   "cell_type": "markdown",
   "metadata": {},
   "source": [
    "# 2. Integrated Development Environment (IDEs) <a name='IDEs'></a>"
   ]
  },
  {
   "cell_type": "markdown",
   "metadata": {},
   "source": [
    "## 2.1 Eclipse <a name= 'IDEs-eclipse'></a>"
   ]
  },
  {
   "cell_type": "markdown",
   "metadata": {},
   "source": [
    "Assuming you have [Eclipse](https://www.eclipse.org/downloads/) installed, do the following to set a python interpreter.\n",
    "- Install PyDev plugin via the [Eclipse update manager](http://pydev.org/updates)\n",
    "  - From the menu, select *Help >> Software Updates >> Find and install.....*\n",
    "  - Select *Search for new features to install*\n",
    "  - Click the 'New Remote site' button and paste PyDev's plugin URL\n",
    "  - Click to install PyDev and follow the directions\n",
    "  - Open the Preferences window within Eclipse and select `PyDev >> Interpreter - Python`\n",
    "- To configure Eclipse, you have to ensure the default Python installation path is maintained."
   ]
  },
  {
   "cell_type": "markdown",
   "metadata": {},
   "source": [
    "## 2.2 Visual Studio Code (VS Code) <a name = 'IDEs-visual-studio-code'></a>"
   ]
  },
  {
   "cell_type": "markdown",
   "metadata": {},
   "source": [
    "- If you have not yet done so, install Visual Studio Code \n",
    "  [VS Code](https://code.visualstudio.com/) and \n",
    "  [Python](#https://www.python.org/downloads/) .\n",
    "- Install [Python extension for VS Code](https://marketplace.visualstudio.com/items?itemName=ms-python.python) from the Visual Studio Marketplace.\n",
    "- Install [Python interpreter](https://www.python.org/downloads/) alongside the extension\n",
    "- Open the VS Code command palette (Ctrl+Shift+P), then search for  the `Python: Select Interpreter` command\n",
    "- Select a Python interpreter. Selecting an interpreter sets the Python path (*python.pythonPath*)"
   ]
  },
  {
   "cell_type": "markdown",
   "metadata": {},
   "source": [
    "## 2.3 PyCharm <a name='IDEs-pycharm'></a>"
   ]
  },
  {
   "cell_type": "markdown",
   "metadata": {},
   "source": [
    "- Begin by installing [Python](https://www.python.org/downloads/), if you have not yet done so.  \n",
    "  Make note of the path under which Python was installed.\n",
    "- Secure a [JetBrains account](#https://www.jetbrains.com/).  These are free for students.\n",
    "- Download and install the [PyCharm IDE](#https://www.jetbrains.com/pycharm/) from the JetBrains site.\n",
    "- Add a Python interpreter to the JetBrains IDE in either of the following ways:\n",
    "  - If a file is opened in the Editor, at the status bar, click the `Python Interpreter` widget \n",
    "    and select `Add Interpreter`, specifying the Python installation path.\n",
    "  - Choose the interpreter type to add and choose the specific setting as seen \n",
    "    [here](https://www.jetbrains.com/help/pycharm/configuring-python-interpreter.html)."
   ]
  }
 ],
 "metadata": {
  "kernelspec": {
   "display_name": "Python 3",
   "language": "python",
   "name": "python3"
  },
  "language_info": {
   "codemirror_mode": {
    "name": "ipython",
    "version": 3
   },
   "file_extension": ".py",
   "mimetype": "text/x-python",
   "name": "python",
   "nbconvert_exporter": "python",
   "pygments_lexer": "ipython3",
   "version": "3.8.1"
  }
 },
 "nbformat": 4,
 "nbformat_minor": 2
}
